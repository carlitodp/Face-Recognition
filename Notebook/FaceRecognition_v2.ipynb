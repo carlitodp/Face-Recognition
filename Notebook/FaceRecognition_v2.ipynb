{
 "cells": [
  {
   "cell_type": "code",
   "execution_count": null,
   "id": "d3180e69-fa09-49dc-b051-8bdd8d3dc6ab",
   "metadata": {},
   "outputs": [],
   "source": [
    "%run ./utility_functions.ipynb"
   ]
  },
  {
   "cell_type": "code",
   "execution_count": null,
   "id": "a8e565c4",
   "metadata": {},
   "outputs": [],
   "source": [
    "strategy = tf.distribute.MirroredStrategy(devices = [\"/gpu:0\", \"/gpu:1\", \"/gpu:2\", \"/gpu:3\"])"
   ]
  },
  {
   "cell_type": "markdown",
   "id": "763cf8b9-91fd-4b6d-bc71-37ea2cda53df",
   "metadata": {},
   "source": [
    "# Load Dataset"
   ]
  },
  {
   "cell_type": "code",
   "execution_count": null,
   "id": "b3878334",
   "metadata": {},
   "outputs": [],
   "source": [
    "image_shape = (128,128,3)"
   ]
  },
  {
   "cell_type": "code",
   "execution_count": null,
   "id": "2b5afdba-ed82-4c7d-86a9-d227a9daac72",
   "metadata": {},
   "outputs": [],
   "source": [
    "train_dataset_path = \"../Dataset/clean/TensorflowFaces/\"\n",
    "valid_dataset_path = \"../Dataset/clean/TensorflowFaces_test/\"\n",
    "\n",
    "BATCH_SIZE_PER_REPLICA = 32\n",
    "BATCH_SIZE = BATCH_SIZE_PER_REPLICA * strategy.num_replicas_in_sync\n",
    "\n",
    "trainLoader = Loader(path=train_dataset_path,\n",
    "                     image_shape=image_shape,\n",
    "                     batch_size=BATCH_SIZE,\n",
    "                     max_pos_pairs= 90000,\n",
    "                     apply_augmentation=False,\n",
    "                     augmentation_pourcentage=0.5,\n",
    "                     preprocess_pipeline = None,\n",
    "                     normalize = True,\n",
    "                     image_per_celeb=15)\n",
    "\n",
    "training_dataset = trainLoader.dataset\n",
    "\n",
    "validLoader = Loader(path=valid_dataset_path,\n",
    "                     image_shape=image_shape,\n",
    "                     batch_size=BATCH_SIZE,\n",
    "                     max_pos_pairs=5000,\n",
    "                     preprocess_pipeline=None,\n",
    "                     normalize=True)\n",
    "\n",
    "validation_dataset = validLoader.dataset"
   ]
  },
  {
   "cell_type": "code",
   "execution_count": null,
   "id": "fe974f10-6e8b-4571-b3e8-c10a593bc2e5",
   "metadata": {
    "scrolled": true
   },
   "outputs": [],
   "source": [
    "trainLoader.visualize(value_range=(0,1),\n",
    "                      color_mode_switch=False)"
   ]
  },
  {
   "cell_type": "markdown",
   "id": "3ffe6777-2a70-4f28-b4d6-814cf74e6f3e",
   "metadata": {},
   "source": [
    "# Training"
   ]
  },
  {
   "cell_type": "markdown",
   "id": "05995405-c18a-4067-867f-71861645ab61",
   "metadata": {
    "jp-MarkdownHeadingCollapsed": true
   },
   "source": [
    "## MobileNet"
   ]
  },
  {
   "cell_type": "code",
   "execution_count": null,
   "id": "6402a074",
   "metadata": {},
   "outputs": [],
   "source": [
    "log_dir = f\"../runs/{datetime.now().strftime('%Y%m%d=%H%M%S')}\"\n",
    "\n",
    "tensorboard_callback = tf.keras.callbacks.TensorBoard(\n",
    "    log_dir=log_dir,        \n",
    "    histogram_freq=1,         \n",
    "    write_graph=False,         \n",
    "    write_images=False         \n",
    ")\n",
    "\n",
    "activation_callb = actionCallback(training_dataset,validation_dataset, log_dir, BATCH_SIZE)\n",
    "\n",
    "with strategy.scope(): \n",
    "    \n",
    "    optimizer = Adam(learning_rate=1e-4)\n",
    "    \n",
    "    distance_fc = similarityDistances(normalize=True).cosine_distance\n",
    "    loss_fc = contrastiveLoss(margin=1.0, reduction=tf.keras.losses.Reduction.SUM_OVER_BATCH_SIZE, distance_fc=distance_fc, hard_mining=False)\n",
    "    \n",
    "    dist_sim_metric = Distance(name=\"sim_distance_metric\", aggregation_method=\"quartil\", mode=0, distance_fc = distance_fc)\n",
    "    dist_dissim_metric = Distance(name=\"dissim_distance_metric\", aggregation_method=\"quartil\", mode=1, distance_fc = distance_fc)\n",
    "    \n",
    "    acc = Accuracy(threshold=0.5, name=\"accuraccy\", distance_fc = distance_fc)\n",
    "    \n",
    "    feature_extractor = get_feature_extractor_2(l2reg=1e-4)\n",
    "    \n",
    "\n",
    "    s_network = siameseNetwork(input_size=image_shape, base_model=feature_extractor, embedding_dimension = 128, dropout=0.2, l2_reg=1e-4, name=\"siamese\", apply_augmentation=False)\n",
    "    print(s_network.base_model.summary())\n",
    "\n",
    "    s_network.compile(optimizer=optimizer,\n",
    "                      loss = loss_fc,\n",
    "                      metrics = [dist_sim_metric, dist_dissim_metric, acc])\n",
    "    \n",
    "    s_network.fit(training_dataset, epochs=15, validation_data=validation_dataset, callbacks=[tensorboard_callback, activation_callb])"
   ]
  },
  {
   "cell_type": "markdown",
   "id": "64b6a60c-70e3-45a1-956f-fba96166af85",
   "metadata": {
    "jp-MarkdownHeadingCollapsed": true
   },
   "source": [
    "#  Evaluating"
   ]
  },
  {
   "cell_type": "code",
   "execution_count": null,
   "id": "7744bfba",
   "metadata": {},
   "outputs": [],
   "source": [
    "with strategy.scope():\n",
    "    \n",
    "    optimizer = Adam(learning_rate=1e-3)\n",
    "    loss_fc = contrastiveLoss(margin=1.0, reduction=tf.keras.losses.Reduction.SUM_OVER_BATCH_SIZE)\n",
    "    dist_sim_metric = Distance(name=\"sim_distance_metric\", aggregation_method=\"quartil\", mode=0)\n",
    "    dist_dissim_metric = Distance(name=\"dissim_distance_metric\", aggregation_method=\"quartil\", mode=1)\n",
    "    \n",
    "    acc = Accuracy(threshold=0.38, name=\"accuraccy\")\n",
    "    # acc = BinaryAccuracy(threshold = 0.5)\n",
    "    \n",
    "    s_network.compile(optimizer=optimizer,\n",
    "                      loss = loss_fc,\n",
    "                      metrics = [dist_sim_metric, dist_dissim_metric, acc])\n",
    "    \n",
    "    s_network.evaluate(validation_dataset)"
   ]
  }
 ],
 "metadata": {
  "kernelspec": {
   "display_name": "perso",
   "language": "python",
   "name": "python3"
  },
  "language_info": {
   "codemirror_mode": {
    "name": "ipython",
    "version": 3
   },
   "file_extension": ".py",
   "mimetype": "text/x-python",
   "name": "python",
   "nbconvert_exporter": "python",
   "pygments_lexer": "ipython3",
   "version": "3.9.21"
  }
 },
 "nbformat": 4,
 "nbformat_minor": 5
}
