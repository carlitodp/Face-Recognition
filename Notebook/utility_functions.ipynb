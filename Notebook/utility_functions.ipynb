{
 "cells": [
  {
   "cell_type": "markdown",
   "id": "a4f66511-5b17-446b-a52f-fe86fd531dc3",
   "metadata": {},
   "source": [
    "# Import"
   ]
  },
  {
   "cell_type": "code",
   "execution_count": null,
   "id": "73f27b1d-e2d3-4ee9-be17-b1a3aa0631d1",
   "metadata": {},
   "outputs": [
    {
     "name": "stderr",
     "output_type": "stream",
     "text": [
      "2025-02-04 18:51:20.861507: E external/local_xla/xla/stream_executor/cuda/cuda_fft.cc:485] Unable to register cuFFT factory: Attempting to register factory for plugin cuFFT when one has already been registered\n",
      "2025-02-04 18:51:20.877188: E external/local_xla/xla/stream_executor/cuda/cuda_dnn.cc:8454] Unable to register cuDNN factory: Attempting to register factory for plugin cuDNN when one has already been registered\n",
      "2025-02-04 18:51:20.881636: E external/local_xla/xla/stream_executor/cuda/cuda_blas.cc:1452] Unable to register cuBLAS factory: Attempting to register factory for plugin cuBLAS when one has already been registered\n",
      "2025-02-04 18:51:20.894251: I tensorflow/core/platform/cpu_feature_guard.cc:210] This TensorFlow binary is optimized to use available CPU instructions in performance-critical operations.\n",
      "To enable the following instructions: AVX2 FMA, in other operations, rebuild TensorFlow with the appropriate compiler flags.\n",
      "2025-02-04 18:51:22.258356: W tensorflow/compiler/tf2tensorrt/utils/py_utils.cc:38] TF-TRT Warning: Could not find TensorRT\n",
      "/usr/lib/python3/dist-packages/scipy/__init__.py:146: UserWarning: A NumPy version >=1.17.3 and <1.25.0 is required for this version of SciPy (detected version 1.26.4\n",
      "  warnings.warn(f\"A NumPy version >={np_minversion} and <{np_maxversion}\"\n"
     ]
    },
    {
     "name": "stdout",
     "output_type": "stream",
     "text": [
      "2.17.0\n",
      "8\n",
      "3.7.0\n"
     ]
    }
   ],
   "source": [
    "import tensorflow as tf\n",
    "from tensorflow.keras.metrics import BinaryAccuracy\n",
    "from tensorflow.keras.initializers import HeNormal, GlorotUniform\n",
    "from tensorflow.keras.callbacks import TensorBoard\n",
    "from tensorboard.plugins import projector\n",
    "from tensorflow.keras.applications import resnet, mobilenet, mobilenet_v3 ,MobileNetV3Small, NASNetLarge, NASNetMobile, MobileNetV3Large,ResNet50V2, VGG16\n",
    "from tensorflow.keras.optimizers import Adam, RMSprop, SGD \n",
    "from tensorflow.keras import Model, Sequential\n",
    "from tensorflow.keras import regularizers\n",
    "print(tf.__version__)\n",
    "print(tf.sysconfig.get_build_info()[\"cudnn_version\"])\n",
    "print(tf.keras.__version__)\n",
    "\n",
    "from itertools import combinations, product, islice\n",
    "import os\n",
    "import glob\n",
    "import random\n",
    "import numpy as np\n",
    "import matplotlib.pyplot as plt\n",
    "from datetime import datetime\n",
    "\n",
    "from contrastive_loss import contrastiveLoss\n",
    "from dataLoader import Loader\n",
    "from circle_loss import circleLoss\n",
    "from callbacks import callBacks\n",
    "from siamese_network import siameseNetwork"
   ]
  },
  {
   "cell_type": "markdown",
   "id": "5a4f3c35-75a3-45fc-a244-3eb4d0d0bd4e",
   "metadata": {},
   "source": [
    "# Dataset Creation and Processing"
   ]
  }
 ],
 "metadata": {
  "kernelspec": {
   "display_name": "Python 3 (ipykernel)",
   "language": "python",
   "name": "python3"
  },
  "language_info": {
   "codemirror_mode": {
    "name": "ipython",
    "version": 3
   },
   "file_extension": ".py",
   "mimetype": "text/x-python",
   "name": "python",
   "nbconvert_exporter": "python",
   "pygments_lexer": "ipython3",
   "version": "3.10.12"
  }
 },
 "nbformat": 4,
 "nbformat_minor": 5
}
